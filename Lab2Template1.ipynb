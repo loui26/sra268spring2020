{
  "nbformat": 4,
  "nbformat_minor": 0,
  "metadata": {
    "colab": {
      "name": "Copy of Lab2Template.ipynb",
      "provenance": [],
      "include_colab_link": true
    },
    "kernelspec": {
      "name": "python3",
      "display_name": "Python 3"
    }
  },
  "cells": [
    {
      "cell_type": "markdown",
      "metadata": {
        "id": "view-in-github",
        "colab_type": "text"
      },
      "source": [
        "<a href=\"https://colab.research.google.com/github/loui26/sra268spring2020/blob/master/Lab2Template1.ipynb\" target=\"_parent\"><img src=\"https://colab.research.google.com/assets/colab-badge.svg\" alt=\"Open In Colab\"/></a>"
      ]
    },
    {
      "cell_type": "markdown",
      "metadata": {
        "id": "6sOc4Uyr4U-Z",
        "colab_type": "text"
      },
      "source": [
        "## Graph Types"
      ]
    },
    {
      "cell_type": "markdown",
      "metadata": {
        "id": "0zZdVLAd5CYr",
        "colab_type": "text"
      },
      "source": [
        "Creator\n",
        "* Louis Sentman"
      ]
    },
    {
      "cell_type": "markdown",
      "metadata": {
        "id": "g-r6Clq45Hn4",
        "colab_type": "text"
      },
      "source": [
        "### Deviation\n"
      ]
    },
    {
      "cell_type": "markdown",
      "metadata": {
        "id": "2gorxo6E7A0t",
        "colab_type": "text"
      },
      "source": [
        "![alt text](https://raw.githubusercontent.com/loui26/sra268spring2020/master/spine.PNG)"
      ]
    },
    {
      "cell_type": "markdown",
      "metadata": {
        "id": "w6bZ_NEi7E3w",
        "colab_type": "text"
      },
      "source": [
        "#### What is this telling us?"
      ]
    },
    {
      "cell_type": "markdown",
      "metadata": {
        "id": "95L-spaC7QHF",
        "colab_type": "text"
      },
      "source": [
        "Though I was unable to get the spine function to work in tablaeu, The graph would have consisted of a single varible with a scale of magnatude on the x-axis. Then, each mascot class would be represented in the spine. The single varible that determined the spine would be winning points, with 1200 being the deciding integer. Then there would have been a scale on the bottom that would have mapped out mascots that were less than 1200 and then the scale would continue past 1200. The spine would also be color coded To allow the viewer to see which mascot class had the largest difference from the other classes. From this I learned that it is one thing to think about how a graph may look, and it is yet another to actually make that visualastion a graph in tablaeu. "
      ]
    },
    {
      "cell_type": "markdown",
      "metadata": {
        "id": "YgXyXjmz7cDP",
        "colab_type": "text"
      },
      "source": [
        "### Correlation\n"
      ]
    },
    {
      "cell_type": "markdown",
      "metadata": {
        "id": "SGx15rZq7hvt",
        "colab_type": "text"
      },
      "source": [
        "![alt text](https://raw.githubusercontent.com/loui26/sra268spring2020/master/Correlation.PNG)"
      ]
    },
    {
      "cell_type": "markdown",
      "metadata": {
        "id": "dljjONNi7jmj",
        "colab_type": "text"
      },
      "source": [
        "#### What is this telling us?"
      ]
    },
    {
      "cell_type": "markdown",
      "metadata": {
        "id": "PwZEZrFB7laG",
        "colab_type": "text"
      },
      "source": [
        "For the correlation plot, the graph is describing the strength of the relationship between the two variables. In this case the two variables that I decided to use are time, and the total amount of points scored. This allows for the testing of the question of whether more points are being scored each year. As it turns out, due to the line of best fit, there is no discernible increase or decrease over the years. However, it seems as if the data may vary greatly from year to year; but on average the points remain the same over the 30 year period. "
      ]
    },
    {
      "cell_type": "markdown",
      "metadata": {
        "id": "MqUdI-uL7r2s",
        "colab_type": "text"
      },
      "source": [
        "### Ranking\n"
      ]
    },
    {
      "cell_type": "markdown",
      "metadata": {
        "id": "AvlxCOVt7x9F",
        "colab_type": "text"
      },
      "source": [
        "![alt text](https://raw.githubusercontent.com/loui26/sra268spring2020/master/Ranking.PNG)"
      ]
    },
    {
      "cell_type": "markdown",
      "metadata": {
        "id": "lCAYtfza7yTq",
        "colab_type": "text"
      },
      "source": [
        "#### What is this telling us?"
      ]
    },
    {
      "cell_type": "markdown",
      "metadata": {
        "id": "MyuciD277ygU",
        "colab_type": "text"
      },
      "source": [
        "For the rank plot, the graph is ordering data from greatest to least in terms of total points earned for the particular winning class. In addition, the graph labels the order of the classes. The number one signifies the most total points for that winning class. The last number indicates the least number of points scored for that winning class over the period of 30 years. The mascot class with the greatest number of points over the 30 years is the Mammal class. This is likely due to the sheer number of schools whose mascot is a mammal. Next the class with the least number of points is the squamata, or scaled specials like reptiles. "
      ]
    },
    {
      "cell_type": "markdown",
      "metadata": {
        "id": "dGDGl8-G7y8Y",
        "colab_type": "text"
      },
      "source": [
        "### Distribution\n"
      ]
    },
    {
      "cell_type": "markdown",
      "metadata": {
        "id": "FB0uV-jy76p9",
        "colab_type": "text"
      },
      "source": [
        "![alt text](https://raw.githubusercontent.com/loui26/sra268spring2020/master/Distribution.PNG)"
      ]
    },
    {
      "cell_type": "markdown",
      "metadata": {
        "id": "_6SOzhrQ76zH",
        "colab_type": "text"
      },
      "source": [
        "#### What is this telling us?"
      ]
    },
    {
      "cell_type": "markdown",
      "metadata": {
        "id": "HBWqsS_g767h",
        "colab_type": "text"
      },
      "source": [
        "For the  distribution plot, the graph is displaying the distribution of points scored by losing teams in 1984. I decided to use a box and whisker plot to describe the data. This allows the viewer to visually see the outlines with a spatial component to the graph. In other words the outliers are separated from the box. Additionally, the plot is broken up into three sections, the upper hinge, the median, and the lower hinge. For this plot the max was 156 points scored by the tigers. Next was the minimum with 38 points by the bobcats. The median number of points was 59 with the jaguars."
      ]
    },
    {
      "cell_type": "markdown",
      "metadata": {
        "id": "wQsDThk677Fy",
        "colab_type": "text"
      },
      "source": [
        "### Change over Time\n"
      ]
    },
    {
      "cell_type": "markdown",
      "metadata": {
        "id": "Z1j_YLOA7_OK",
        "colab_type": "text"
      },
      "source": [
        "![alt text](https://raw.githubusercontent.com/loui26/sra268spring2020/master/OverTime.PNG)"
      ]
    },
    {
      "cell_type": "markdown",
      "metadata": {
        "id": "mpfsmmgi7_Vj",
        "colab_type": "text"
      },
      "source": [
        "#### What is this telling us?"
      ]
    },
    {
      "cell_type": "markdown",
      "metadata": {
        "id": "rYLXoMMO7_di",
        "colab_type": "text"
      },
      "source": [
        "\n",
        "For the Change over time plot, the graph is showing the change in trend for PSU and their winning points for the years they did not win the championship. I decided to use a line graph because it can accurately illustrate a general curve that is representative of the data in the set. As far as spatially, the farther apart the points are vertically means that there is a greater difference in the number of winning points scored that year. Also, it must be noted that this is for years where they were a losing team. This data is useful in seeing how the team improved over the years. Also, it shows which years the team was weak in, because all of them were losing years.\n",
        "\n"
      ]
    },
    {
      "cell_type": "markdown",
      "metadata": {
        "id": "lFwiHoE-7_jZ",
        "colab_type": "text"
      },
      "source": [
        "### Magnitude\n"
      ]
    },
    {
      "cell_type": "markdown",
      "metadata": {
        "id": "ICQFnXj78EbF",
        "colab_type": "text"
      },
      "source": [
        "![alt text](https://raw.githubusercontent.com/loui26/sra268spring2020/master/magnetude1.PNG)"
      ]
    },
    {
      "cell_type": "markdown",
      "metadata": {
        "id": "QGG7XYG88Eii",
        "colab_type": "text"
      },
      "source": [
        "#### What is this telling us?"
      ]
    },
    {
      "cell_type": "markdown",
      "metadata": {
        "id": "VS7uGa0l8Eos",
        "colab_type": "text"
      },
      "source": [
        "\n",
        "For the Magnitude plot, the graph is showing the difference between the amount of winning points that the winning mascots order received during the year 2000. I decided to use a bar chart to illustrate this effect because, the differences between the winning mascots order amount of points can be easily seen through a barchart. The order with the most amount of points during the year 2000 was, the carnivores. This could suggest that schools with carnivores for their mascots earn the most points. However, it must be noted to not mistake correlation with causation. More research would be necessary to prove that idea. As for the lowest mascot order, Crocadillia scored the least points coming in at 69.\n"
      ]
    },
    {
      "cell_type": "markdown",
      "metadata": {
        "id": "bEKFxP8R8Evk",
        "colab_type": "text"
      },
      "source": [
        "### Part-to-Whole\n"
      ]
    },
    {
      "cell_type": "markdown",
      "metadata": {
        "id": "WFHlcYKV8E35",
        "colab_type": "text"
      },
      "source": [
        "![alt text](https://raw.githubusercontent.com/loui26/sra268spring2020/master/Piechart.PNG)"
      ]
    },
    {
      "cell_type": "markdown",
      "metadata": {
        "id": "PNSd3wlp8UZH",
        "colab_type": "text"
      },
      "source": [
        "#### What is this telling us?"
      ]
    },
    {
      "cell_type": "markdown",
      "metadata": {
        "id": "y9tb_QRA8aqt",
        "colab_type": "text"
      },
      "source": [
        "\n",
        "For the parts of a whole plot, the graph is showing the total points gained during the 2016 season. Furthermore it divides the total points earned in the 2016 season between the winning mascot animal classes. The classes include, Aves, Liiopsida, mammalia, reptilia, and null values for mascots that did not fit into any of those classes. The spatial relationships is the magnitude of the data of one mascot class compared to that of another, with respect to a finite and discrete number of points earned. The class with the largest number of points in 2016 was the mammal 3360. Next, the class with the least amount of points was the Aves with 1089. Through this I learned how to create a pie chart with tableau. \n"
      ]
    }
  ]
}