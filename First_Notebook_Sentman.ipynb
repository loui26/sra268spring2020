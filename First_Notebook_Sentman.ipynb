{
  "nbformat": 4,
  "nbformat_minor": 0,
  "metadata": {
    "colab": {
      "name": "First_Notebook_Sentman",
      "provenance": [],
      "collapsed_sections": [],
      "authorship_tag": "ABX9TyOoV697j86HurXfEUNyxuag",
      "include_colab_link": true
    },
    "kernelspec": {
      "name": "python3",
      "display_name": "Python 3"
    }
  },
  "cells": [
    {
      "cell_type": "markdown",
      "metadata": {
        "id": "view-in-github",
        "colab_type": "text"
      },
      "source": [
        "<a href=\"https://colab.research.google.com/github/loui26/sra268spring2020/blob/master/First_Notebook_Sentman.ipynb\" target=\"_parent\"><img src=\"https://colab.research.google.com/assets/colab-badge.svg\" alt=\"Open In Colab\"/></a>"
      ]
    },
    {
      "cell_type": "markdown",
      "metadata": {
        "id": "gaZF6fe_bTFq",
        "colab_type": "text"
      },
      "source": [
        ""
      ]
    },
    {
      "cell_type": "markdown",
      "metadata": {
        "id": "IBQ870UhbUf2",
        "colab_type": "text"
      },
      "source": [
        "# AVG Rainfall two days prior to and after June 26\n",
        "\n"
      ]
    },
    {
      "cell_type": "markdown",
      "metadata": {
        "id": "D50_dPv_blGx",
        "colab_type": "text"
      },
      "source": [
        "### OUTLINE\n",
        "\n",
        "\n"
      ]
    },
    {
      "cell_type": "markdown",
      "metadata": {
        "id": "QfBbZjT2bsDc",
        "colab_type": "text"
      },
      "source": [
        "For this lab I used the data of average rainfall two days prior to and after June 26. I did this because this is nearing the height of the summer. Also it is my birthday. Furthermore this will allow others who also hold signifigance to the date to plan accordingly in the furture."
      ]
    },
    {
      "cell_type": "markdown",
      "metadata": {
        "id": "cbYQ_0XgnNgW",
        "colab_type": "text"
      },
      "source": [
        ""
      ]
    },
    {
      "cell_type": "markdown",
      "metadata": {
        "id": "19xJMqPjcIMN",
        "colab_type": "text"
      },
      "source": [
        "###GRAPH"
      ]
    },
    {
      "cell_type": "markdown",
      "metadata": {
        "id": "QQeCUVoynt9K",
        "colab_type": "text"
      },
      "source": [
        "https://github.com/loui26/sra268spring2020/blob/master/graphimage2.jpg"
      ]
    },
    {
      "cell_type": "markdown",
      "metadata": {
        "id": "Ylo5n79nl1oA",
        "colab_type": "text"
      },
      "source": [
        "### CONCLUSION\n",
        "In summation this data shows, for 2017 and 2018 that the least amount of rainfall present between the five day window aformentioned is June 26th. This holds true in this situation because during both years June 26 recieved no rainfall. Wheras, the other days experienced one or two days of rain fall. However, one must be cautious to not rely on this data because it is only a snapshot of two years"
      ]
    }
  ]
}